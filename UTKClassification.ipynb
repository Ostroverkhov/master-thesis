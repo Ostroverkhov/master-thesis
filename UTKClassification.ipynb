{
  "nbformat": 4,
  "nbformat_minor": 0,
  "metadata": {
    "colab": {
      "name": "UTKClassification.ipynb",
      "provenance": [],
      "collapsed_sections": [
        "nJnsbPDbPl-6"
      ],
      "authorship_tag": "ABX9TyNKYrGJH6W9Lb6RnAOCSDwC",
      "include_colab_link": true
    },
    "kernelspec": {
      "name": "python3",
      "display_name": "Python 3"
    },
    "accelerator": "GPU"
  },
  "cells": [
    {
      "cell_type": "markdown",
      "metadata": {
        "id": "view-in-github",
        "colab_type": "text"
      },
      "source": [
        "<a href=\"https://colab.research.google.com/github/Ostroverkhov/master-thesis/blob/master/UTKClassification.ipynb\" target=\"_parent\"><img src=\"https://colab.research.google.com/assets/colab-badge.svg\" alt=\"Open In Colab\"/></a>"
      ]
    },
    {
      "cell_type": "code",
      "metadata": {
        "id": "cU03osSYoz0d",
        "colab_type": "code",
        "colab": {}
      },
      "source": [
        "import os\n",
        "from google.colab import drive\n",
        "\n",
        "import numpy as np\n",
        "\n",
        "import torch\n",
        "import torch.nn as nn\n",
        "import torch.nn.functional as F\n",
        "import torch.optim as optim\n",
        "\n",
        "import torchvision\n",
        "import torchvision.transforms as transforms\n",
        "\n",
        "from torch.utils.data.sampler import SubsetRandomSampler\n",
        "\n",
        "from torchsummary import summary\n",
        "\n",
        "from tqdm import tqdm_notebook\n",
        "\n",
        "import matplotlib.pyplot as plt\n",
        "%matplotlib inline"
      ],
      "execution_count": 0,
      "outputs": []
    },
    {
      "cell_type": "markdown",
      "metadata": {
        "id": "3S7Yx56gLfDL",
        "colab_type": "text"
      },
      "source": [
        "# 1. Подготовка датасета"
      ]
    },
    {
      "cell_type": "code",
      "metadata": {
        "id": "Kr-w9HICwSOQ",
        "colab_type": "code",
        "colab": {}
      },
      "source": [
        "from torchvision.datasets import ImageFolder\n",
        "\n",
        "# Класс для получения url и меток изображений\n",
        "class UTKImageFolder(ImageFolder):\n",
        "    # В датасете всего 5 классов, но т.к. 5 класс не обладает четкими признаками\n",
        "    # и не несет смысловой нагрузки, то его игнорируем\n",
        "    def __init__(self, root, transform=None, target_transform=None, is_valid_file=None):\n",
        "        super(UTKImageFolder, self).__init__(root,\n",
        "                                             transform=transform,\n",
        "                                             target_transform=target_transform,\n",
        "                                             loader=torchvision.datasets.folder.default_loader,\n",
        "                                             is_valid_file=is_valid_file)\n",
        "        \n",
        "        self.classes = ['white', 'black', 'asian', 'indian']\n",
        "        self.class_to_idx = {\n",
        "            'white': 0,\n",
        "            'black': 1,\n",
        "            'asian': 2,\n",
        "            'indian': 3\n",
        "            }\n",
        "            \n",
        "        file_names = list(map(lambda x: x[0], self.samples))\n",
        "        temp_file_names = []\n",
        "        labels = []\n",
        "        for name in file_names:\n",
        "          image_name = name.split('/')[-1]\n",
        "          _, _, race = image_name.split(\"_\")[:3]\n",
        "          if int(race) == 4:\n",
        "            continue\n",
        "          temp_file_names.append(name)\n",
        "          labels.append(int(race))\n",
        "\n",
        "        self.targets = labels\n",
        "        self.imgs = list(zip(temp_file_names, labels))\n",
        "        self.samples = self.imgs"
      ],
      "execution_count": 0,
      "outputs": []
    },
    {
      "cell_type": "code",
      "metadata": {
        "id": "dztQD_Q0AY7j",
        "colab_type": "code",
        "colab": {}
      },
      "source": [
        "# Создание Dataset из ImageFolder\n",
        "class UTKImageDataset(Dataset): \n",
        "  def init(self, image_folder): self.array = image_folder.imgs\n",
        "\n",
        "  def __getitem__(self, index):\n",
        "    return self.array[index]\n",
        " \n",
        "  def __len__(self):\n",
        "    return len(self.array)"
      ],
      "execution_count": 0,
      "outputs": []
    },
    {
      "cell_type": "code",
      "metadata": {
        "id": "NZWjoIxk60zn",
        "colab_type": "code",
        "colab": {}
      },
      "source": [
        "# Подключаемся к google drive\n",
        "drive.mount('/content/drive')"
      ],
      "execution_count": 0,
      "outputs": []
    },
    {
      "cell_type": "code",
      "metadata": {
        "id": "YHsK0_NOo4nx",
        "colab_type": "code",
        "outputId": "4634e621-f57a-4944-aa69-3f350fb336fe",
        "colab": {
          "base_uri": "https://localhost:8080/",
          "height": 122
        }
      },
      "source": [
        "# обработка изображения перед подачей на сеть\n",
        "transform = transforms.Compose([\n",
        "                                transforms.Resize(200),\n",
        "                                transforms.ToTensor(),\n",
        "                                transforms.Normalize((0.5, 0.5, 0.5), (0.5, 0.5, 0.5))])\n",
        "\n",
        "dataset = UTKImageFolder(root=\"/content/drive/My Drive/UTKDataset\", transform=transform)\n",
        "\n",
        "# разбивка на train и validation\n",
        "train_size = int(0.8 * len(dataset))\n",
        "test_size = len(dataset) - train_size\n",
        "train_dataset, test_dataset = torch.utils.data.random_split(dataset, [train_size, test_size])\n",
        "\n",
        "trainloader = torch.utils.data.DataLoader(train_dataset, batch_size=64,\n",
        "                                           shuffle=True, num_workers=2)\n",
        "\n",
        "testloader = torch.utils.data.DataLoader(test_dataset, batch_size=64,\n",
        "                                           shuffle=False, num_workers=2)\n",
        "\n",
        "\n",
        "classes = dataset.classes"
      ],
      "execution_count": 4,
      "outputs": [
        {
          "output_type": "stream",
          "text": [
            "Go to this URL in a browser: https://accounts.google.com/o/oauth2/auth?client_id=947318989803-6bn6qk8qdgf4n4g3pfee6491hc0brc4i.apps.googleusercontent.com&redirect_uri=urn%3aietf%3awg%3aoauth%3a2.0%3aoob&response_type=code&scope=email%20https%3a%2f%2fwww.googleapis.com%2fauth%2fdocs.test%20https%3a%2f%2fwww.googleapis.com%2fauth%2fdrive%20https%3a%2f%2fwww.googleapis.com%2fauth%2fdrive.photos.readonly%20https%3a%2f%2fwww.googleapis.com%2fauth%2fpeopleapi.readonly\n",
            "\n",
            "Enter your authorization code:\n",
            "··········\n",
            "Mounted at /content/drive\n"
          ],
          "name": "stdout"
        }
      ]
    },
    {
      "cell_type": "code",
      "metadata": {
        "id": "IEOJWSFu_Ske",
        "colab_type": "code",
        "colab": {}
      },
      "source": [
        "def create_data_loaders(root, transform, ratio, batch_size):\n",
        "  dataset = UTKImageFolder(root=root, transform=transform)\n",
        "\n",
        "  # разбивка на train и validation\n",
        "  train_size = int(ratio * len(dataset))\n",
        "  test_size = len(dataset) - train_size\n",
        "  train_dataset, test_dataset = torch.utils.data.random_split(dataset, [train_size, test_size])\n",
        "\n",
        "  trainloader = torch.utils.data.DataLoader(\n",
        "      train_dataset, \n",
        "      batch_size=batch_size,\n",
        "      shuffle=True, \n",
        "      num_workers=2)\n",
        "\n",
        "  testloader = torch.utils.data.DataLoader(\n",
        "      test_dataset, \n",
        "      batch_size=batch_size,\n",
        "      shuffle=False, \n",
        "      num_workers=2)\n",
        "\n",
        "\n",
        "  classes = dataset.classes\n",
        "\n",
        "  return (trainloader, testloader, classes)"
      ],
      "execution_count": 0,
      "outputs": []
    },
    {
      "cell_type": "code",
      "metadata": {
        "id": "Ou7GOZRg5rqw",
        "colab_type": "code",
        "colab": {}
      },
      "source": [
        "transform = transforms.Compose([\n",
        "                                transforms.Resize(200),\n",
        "                                transforms.ToTensor(),\n",
        "                                transforms.Normalize((0.5, 0.5, 0.5), (0.5, 0.5, 0.5))])\n",
        "\n",
        "root = \"/content/drive/My Drive/UTKDataset\"\n",
        "\n",
        "trainloader, testloader, classes = create_data_loaders(root=root, transform=transform, ratio=0.8, batch_size=64)"
      ],
      "execution_count": 0,
      "outputs": []
    },
    {
      "cell_type": "code",
      "metadata": {
        "id": "Q8PAXOvbedqw",
        "colab_type": "code",
        "outputId": "9600027f-6ad0-4197-a44f-364bf7f1ebc5",
        "colab": {
          "base_uri": "https://localhost:8080/",
          "height": 34
        }
      },
      "source": [
        ""
      ],
      "execution_count": 12,
      "outputs": [
        {
          "output_type": "execute_result",
          "data": {
            "text/plain": [
              "<torch.utils.data.sampler.RandomSampler at 0x7f4c7df413c8>"
            ]
          },
          "metadata": {
            "tags": []
          },
          "execution_count": 12
        }
      ]
    },
    {
      "cell_type": "markdown",
      "metadata": {
        "id": "nJnsbPDbPl-6",
        "colab_type": "text"
      },
      "source": [
        "# Визуализация данных"
      ]
    },
    {
      "cell_type": "code",
      "metadata": {
        "id": "DbfEMxGEs67e",
        "colab_type": "code",
        "colab": {}
      },
      "source": [
        "\n",
        "# functions to show an image\n",
        "def imshow(img):\n",
        "    img = img / 2 + 0.5     # unnormalize\n",
        "    npimg = img.numpy()\n",
        "    plt.figure(figsize=(20, 20))\n",
        "    plt.imshow(np.transpose(npimg, (1, 2, 0)))\n",
        "    plt.show()\n",
        "\n",
        "\n",
        "# get some random training images\n",
        "dataiter = iter(train_loader)\n",
        "images, labels = dataiter.next()\n",
        "print(images.shape)\n",
        "# show images\n",
        "imshow(torchvision.utils.make_grid(images))\n",
        "# print labels\n",
        "print(' '.join('%5s' % classes[labels[j]] for j in range(64)))"
      ],
      "execution_count": 0,
      "outputs": []
    },
    {
      "cell_type": "markdown",
      "metadata": {
        "id": "Q8nXZUTDRtGy",
        "colab_type": "text"
      },
      "source": [
        "# Конструирование сети\n"
      ]
    },
    {
      "cell_type": "markdown",
      "metadata": {
        "id": "Otw1Mxk_Tu5-",
        "colab_type": "text"
      },
      "source": [
        "### Создание модулей\n"
      ]
    },
    {
      "cell_type": "code",
      "metadata": {
        "id": "vrZXND3h2yCS",
        "colab_type": "code",
        "colab": {}
      },
      "source": [
        ""
      ],
      "execution_count": 0,
      "outputs": []
    },
    {
      "cell_type": "code",
      "metadata": {
        "id": "mu5YU4Ua3R2z",
        "colab_type": "code",
        "colab": {}
      },
      "source": [
        "# Первая версия сверточной сети\n",
        "class MyFCNet1(nn.Module):\n",
        "    def __init__(self):\n",
        "        super().__init__()\n",
        "        self.fc1 = nn.Linear(3072, 100)\n",
        "        self.fc2 = nn.Linear(100, 120)\n",
        "        self.fc3 = nn.Linear(120, 100)\n",
        "        self.fc4 = nn.Linear(100, 84)\n",
        "        self.fc5 = nn.Linear(84, 5)\n",
        "\n",
        "    def forward(self, x):\n",
        "        # print(x.shape)\n",
        "        x = x.view(-1, 3072)\n",
        "        x = F.relu(self.fc1(x))\n",
        "        x = F.relu(self.fc2(x))\n",
        "        x = F.relu(self.fc3(x))\n",
        "        x = F.relu(self.fc4(x))\n",
        "        x = self.fc5(x)\n",
        "        return x\n",
        "\n",
        "\n",
        "class MyConvNet1(nn.Module):\n",
        "    def __init__(self):\n",
        "        super().__init__()\n",
        "        self.conv1 = nn.Conv2d(in_channels=3, out_channels=10, kernel_size=5)\n",
        "        self.pool = nn.MaxPool2d(kernel_size=2, stride=2)\n",
        "        self.conv2 = nn.Conv2d(in_channels=10, out_channels=16, kernel_size=5)\n",
        "        self.fc1 = nn.Linear(16 * 5 * 5, 120)\n",
        "        self.fc2 = nn.Linear(120, 84)\n",
        "        self.fc3 = nn.Linear(84, 5)\n",
        "\n",
        "    def forward(self, x):\n",
        "        x = self.pool(F.relu(self.conv1(x)))\n",
        "        x = self.pool(F.relu(self.conv2(x)))\n",
        "        x = x.view(-1, 16 * 5 * 5)\n",
        "        x = F.relu(self.fc1(x))\n",
        "        x = F.relu(self.fc2(x))\n",
        "        x = self.fc3(x)\n",
        "        return x\n"
      ],
      "execution_count": 0,
      "outputs": []
    },
    {
      "cell_type": "code",
      "metadata": {
        "id": "WC0i4P1WS9KB",
        "colab_type": "code",
        "colab": {}
      },
      "source": [
        "# вторая версия сверточной сети\n",
        "class MyConvNet2(nn.Module):\n",
        "    def __init__(self):\n",
        "        # вызов конструктора предка\n",
        "        super().__init__()\n",
        "        # необходмо заранее знать, сколько каналов у картинки (сейчас = 1),\n",
        "        # которую будем подавать в сеть, больше ничего\n",
        "        # про входящие картинки знать не нужно\n",
        "        self.conv1 = nn.Conv2d(in_channels=3, out_channels=64, kernel_size=5)\n",
        "        self.conv2 = nn.Conv2d(in_channels=64, out_channels=128, kernel_size=3)\n",
        "        self.conv3 = nn.Conv2d(in_channels=128, out_channels=256, kernel_size=3)\n",
        "        self.pool = nn.MaxPool2d(kernel_size=2, stride=2)\n",
        "        self.conv4 = nn.Conv2d(in_channels=256, out_channels=512, kernel_size=3)\n",
        "        self.conv5 = nn.Conv2d(in_channels=512, out_channels=1024, kernel_size=2)\n",
        "\n",
        "        self.fc1 = nn.Linear(5 * 5 * 1024, 1024)  # !!!\n",
        "        self.fc2 = nn.Linear(1024, 512)\n",
        "        self.fc3 = nn.Linear(512, 256)\n",
        "        self.fc4 = nn.Linear(256, 64)\n",
        "        self.fc5 = nn.Linear(64, 5)\n",
        "\n",
        "    def forward(self, x):\n",
        "        #(32,32)\n",
        "        x = F.relu(self.conv1(x))\n",
        "        #(28,28)\n",
        "        x = F.relu(self.conv2(x))\n",
        "        #(26, 26)\n",
        "        x = F.relu(self.conv3(x))\n",
        "        #(24, 24)\n",
        "        x = self.pool(F.relu(self.conv4(x)))\n",
        "        #(11, 11)\n",
        "        x = self.pool(F.relu(self.conv5(x)))\n",
        "        #(5, 5)\n",
        "        # print(x.shape)\n",
        "        x = x.view(-1, 5 * 5 * 1024)  # !!!\n",
        "        x = F.relu(self.fc1(x))\n",
        "        x = F.relu(self.fc2(x))\n",
        "        x = F.relu(self.fc3(x))\n",
        "        x = F.relu(self.fc4(x))\n",
        "        x = self.fc5(x)\n",
        "        return x"
      ],
      "execution_count": 0,
      "outputs": []
    },
    {
      "cell_type": "code",
      "metadata": {
        "id": "raRfxPCRXXTn",
        "colab_type": "code",
        "colab": {}
      },
      "source": [
        ""
      ],
      "execution_count": 0,
      "outputs": []
    },
    {
      "cell_type": "markdown",
      "metadata": {
        "id": "vNTwEj6CVIZC",
        "colab_type": "text"
      },
      "source": [
        "### Инициализация и переход на GPU"
      ]
    },
    {
      "cell_type": "code",
      "metadata": {
        "id": "a1GGnwQmUAqg",
        "colab_type": "code",
        "colab": {}
      },
      "source": [
        "# net = MyConvNet1()\n",
        "net = MyConvNet2()\n",
        "\n",
        "device = torch.device(\"cuda:0\" if torch.cuda.is_available() else \"cpu\")\n",
        "net.to(device)"
      ],
      "execution_count": 0,
      "outputs": []
    },
    {
      "cell_type": "markdown",
      "metadata": {
        "id": "uk-vsXpSVW4R",
        "colab_type": "text"
      },
      "source": [
        "### Вывод параметров сети"
      ]
    },
    {
      "cell_type": "code",
      "metadata": {
        "id": "6FNaIo6KSCk4",
        "colab_type": "code",
        "colab": {}
      },
      "source": [
        "torchsummary.summary(net.cuda(), (3, 32, 32))"
      ],
      "execution_count": 0,
      "outputs": []
    },
    {
      "cell_type": "markdown",
      "metadata": {
        "id": "f9wm0VSpWk3r",
        "colab_type": "text"
      },
      "source": [
        "### Обучение\n"
      ]
    },
    {
      "cell_type": "code",
      "metadata": {
        "id": "byU1znNfewfL",
        "colab_type": "code",
        "colab": {}
      },
      "source": [
        "loss_fn = torch.nn.CrossEntropyLoss()\n",
        "\n",
        "learning_rate = 1e-4\n",
        "# optimizer = optim.SGD(net.parameters(), lr=0.001, momentum=0.9)\n",
        "optimizer = torch.optim.Adam(net.parameters(), lr=learning_rate)\n",
        "\n",
        "# итерируемся\n",
        "for epoch in tqdm_notebook(range(1)):\n",
        "\n",
        "    running_loss = 0.0\n",
        "    for i, batch in enumerate(tqdm_notebook(train_loader)):\n",
        "        # так получаем текущий батч\n",
        "        X_batch, y_batch = batch[0].to(device), batch[1].to(device)\n",
        "\n",
        "        # обнуляем веса\n",
        "        optimizer.zero_grad()\n",
        "\n",
        "        # forward + backward + optimize\n",
        "        y_pred = net(X_batch)\n",
        "        loss = loss_fn(y_pred, y_batch)\n",
        "        loss.backward()\n",
        "        optimizer.step()\n",
        "\n",
        "        # выведем текущий loss\n",
        "        running_loss += loss.item()\n",
        "        # выводем качество каждые 2000 батчей\n",
        "        if i % 2000 == 1999:\n",
        "            print('[%d, %5d] loss: %.3f' %\n",
        "                  (epoch + 1, i + 1, running_loss / 2000))\n",
        "            running_loss = 0.0\n",
        "\n",
        "PATH = '/content/drive/My Drive/UTKDataset/utkface_net3.pth'\n",
        "torch.save(net.state_dict(), PATH)\n",
        "print('Обучение закончено')"
      ],
      "execution_count": 0,
      "outputs": []
    },
    {
      "cell_type": "markdown",
      "metadata": {
        "id": "HXu2-AfxaOoh",
        "colab_type": "text"
      },
      "source": [
        "### Accuracy"
      ]
    },
    {
      "cell_type": "code",
      "metadata": {
        "id": "2RB5N46_a7ME",
        "colab_type": "code",
        "colab": {}
      },
      "source": [
        "# загрузка сохраненной модели\n",
        "PATH = '/content/drive/My Drive/UTKDataset/utkface_net3.pth'\n",
        "net = MyConvNet2()\n",
        "net.load_state_dict(torch.load(PATH))\n",
        "device = torch.device(\"cpu\")\n",
        "net.to(device)"
      ],
      "execution_count": 0,
      "outputs": []
    },
    {
      "cell_type": "code",
      "metadata": {
        "id": "Nk3iPfTYlx_V",
        "colab_type": "code",
        "colab": {}
      },
      "source": [
        "#  По всем классам\n",
        "correct = 0\n",
        "total = 0\n",
        "with torch.no_grad():\n",
        "    for data in trainloader:\n",
        "        images, labels = data\n",
        "        outputs = net(images)\n",
        "        _, predicted = torch.max(outputs.data, 1)\n",
        "        total += labels.size(0)\n",
        "        correct += (predicted == labels).sum().item()\n",
        "\n",
        "print('Accuracy of the network on the 10000 test images: %d %%' % (\n",
        "    100 * correct / total))"
      ],
      "execution_count": 0,
      "outputs": []
    },
    {
      "cell_type": "code",
      "metadata": {
        "id": "d1yYJD99mTpR",
        "colab_type": "code",
        "colab": {}
      },
      "source": [
        "# По каждому классу \n",
        "class_correct = list(0. for i in range(len(classes)))\n",
        "class_total = list(0. for i in range(len(classes)))\n",
        "with torch.no_grad():\n",
        "    for data in trainloader:\n",
        "        images, labels = data\n",
        "        outputs = net(images)\n",
        "        _, predicted = torch.max(outputs, 1)\n",
        "        c = (predicted == labels).squeeze()\n",
        "        for i in range(4):\n",
        "            label = labels[i]\n",
        "            class_correct[label] += c[i].item()\n",
        "            class_total[label] += 1\n",
        "\n",
        "\n",
        "for i in range(len(classes)):\n",
        "    print('Accuracy of %5s : %2d %%' % (\n",
        "        classes[i], 100 * class_correct[i] / class_total[i]))\n",
        "  "
      ],
      "execution_count": 0,
      "outputs": []
    },
    {
      "cell_type": "code",
      "metadata": {
        "id": "B4rbZTNTcTj6",
        "colab_type": "code",
        "colab": {}
      },
      "source": [
        ""
      ],
      "execution_count": 0,
      "outputs": []
    },
    {
      "cell_type": "markdown",
      "metadata": {
        "id": "gZ_DrsskcWDf",
        "colab_type": "text"
      },
      "source": [
        "### Train and test functions"
      ]
    },
    {
      "cell_type": "code",
      "metadata": {
        "id": "MsCB_B3accta",
        "colab_type": "code",
        "colab": {}
      },
      "source": [
        "def train(model, optim, criterion, dataloader, epoch, device):\n",
        "    total = 0\n",
        "    correct = 0\n",
        "    train_loss = 0\n",
        "    \n",
        "    model.train()\n",
        "    for data, label in dataloader:\n",
        "        data, label = data.to(device), label.to(device)\n",
        "        optim.zero_grad()\n",
        "        output = model(data)\n",
        "        loss = criterion(output, label)\n",
        "        loss.backward()\n",
        "        optim.step()\n",
        "        \n",
        "        train_loss += loss.item()\n",
        "        pred = output.argmax(1)\n",
        "        total += output.shape[0]\n",
        "        correct += pred.eq(label).sum().item()\n",
        "    return train_loss / total, 100. * correct / total"
      ],
      "execution_count": 0,
      "outputs": []
    },
    {
      "cell_type": "code",
      "metadata": {
        "id": "JCPczE2_cnBC",
        "colab_type": "code",
        "colab": {}
      },
      "source": [
        "def test(model, criterion, dataloader, epoch, device, best_acc, model_name='model'):\n",
        "    total = 0\n",
        "    correct = 0\n",
        "    test_loss = 0\n",
        "    \n",
        "    model.eval()\n",
        "    with torch.no_grad():\n",
        "        for data, label in dataloader:\n",
        "            data, label = data.to(device), label.to(device)\n",
        "            output = model(data)\n",
        "            \n",
        "            loss = criterion(output, label)\n",
        "            \n",
        "            test_loss += loss\n",
        "            pred = output.argmax(1)\n",
        "            correct += torch.eq(pred, label).sum().item()\n",
        "            total += data.shape[0]\n",
        "    \n",
        "    acc = 100.*correct/total\n",
        "    if acc > best_acc:\n",
        "        # print('Saving..')\n",
        "        state = {\n",
        "            'net': model.state_dict(),\n",
        "            'acc': acc,\n",
        "            'epoch': epoch,\n",
        "        }\n",
        "        PATH = '/content/drive/My Drive/UTKDataset/checkpoint/ckpt_{}.pth'.format(model_name)\n",
        "        torch.save(state, PATH)\n",
        "    \n",
        "    return test_loss / total, acc"
      ],
      "execution_count": 0,
      "outputs": []
    },
    {
      "cell_type": "markdown",
      "metadata": {
        "id": "950fRBUnc-o9",
        "colab_type": "text"
      },
      "source": [
        "### Train\n"
      ]
    },
    {
      "cell_type": "code",
      "metadata": {
        "id": "QEqlTwxfcoSK",
        "colab_type": "code",
        "colab": {}
      },
      "source": [
        "from IPython.display import clear_output\n",
        "import numpy as np"
      ],
      "execution_count": 0,
      "outputs": []
    },
    {
      "cell_type": "code",
      "metadata": {
        "id": "kjFYeowLdGkD",
        "colab_type": "code",
        "colab": {}
      },
      "source": [
        "# model = model.to(device)\n",
        "\n",
        "\n",
        "criterion = nn.CrossEntropyLoss()\n",
        "# optimizer = optim.SGD(net.parameters(), \n",
        "                      # lr=0.001, momentum=0.9, weight_decay=5e-4)\n",
        "learning_rate = 1e-3\n",
        "optimizer = torch.optim.Adam(net.parameters(), lr=learning_rate)\n",
        "# scheduler = optim.lr_scheduler.StepLR(optimizer, 2, gamma=0.5)"
      ],
      "execution_count": 0,
      "outputs": []
    },
    {
      "cell_type": "code",
      "metadata": {
        "id": "eYJ19RdSdNsz",
        "colab_type": "code",
        "colab": {}
      },
      "source": [
        "train_losses = []\n",
        "test_losses = []\n",
        "best_acc = 0\n",
        "best_epoch = -1\n",
        "for i in range(500):\n",
        "    train_loss, train_acc = train(net, optimizer, criterion, train_loader, i, device)\n",
        "    train_losses.append(train_loss)\n",
        "    test_loss, test_acc = test(net, criterion, validation_loader, i, device, best_acc)\n",
        "    # scheduler.step(test_loss)\n",
        "    test_losses.append(test_loss)\n",
        "    best_acc = max(best_acc, test_acc)\n",
        "    best_epoch = i if best_acc == test_acc else best_epoch\n",
        "    clear_output()\n",
        "    plt.figure(figsize=(18, 9))\n",
        "    plt.plot(np.arange(len(train_losses)), train_losses, label=f'Train, loss: {train_loss:.4f}, Acc: {train_acc}')\n",
        "    plt.plot(np.arange(len(test_losses)), test_losses, label=f'Test, loss: {test_loss:.4f}, Acc: {test_acc}')\n",
        "    plt.title(f'Epoch {i}')\n",
        "    plt.legend(loc='best')\n",
        "    plt.show()"
      ],
      "execution_count": 0,
      "outputs": []
    },
    {
      "cell_type": "code",
      "metadata": {
        "id": "Nqzr4vWFe6mQ",
        "colab_type": "code",
        "colab": {}
      },
      "source": [
        "os.path.isdir('checkpoint')"
      ],
      "execution_count": 0,
      "outputs": []
    },
    {
      "cell_type": "markdown",
      "metadata": {
        "id": "pOAUhqraLasO",
        "colab_type": "text"
      },
      "source": [
        "### Pretrained"
      ]
    },
    {
      "cell_type": "code",
      "metadata": {
        "id": "-82jN1YWLfYG",
        "colab_type": "code",
        "colab": {}
      },
      "source": [
        "from torchvision.models import resnet18"
      ],
      "execution_count": 0,
      "outputs": []
    },
    {
      "cell_type": "code",
      "metadata": {
        "id": "9HQRkSIhLgCS",
        "colab_type": "code",
        "colab": {}
      },
      "source": [
        "model = resnet18(pretrained=True)"
      ],
      "execution_count": 0,
      "outputs": []
    },
    {
      "cell_type": "code",
      "metadata": {
        "id": "VMOOeH6RLjtq",
        "colab_type": "code",
        "colab": {}
      },
      "source": [
        "torchsummary.summary(model.cuda(), (3, 32, 32))"
      ],
      "execution_count": 0,
      "outputs": []
    },
    {
      "cell_type": "code",
      "metadata": {
        "id": "HEH8hzCzLo_s",
        "colab_type": "code",
        "colab": {}
      },
      "source": [
        "model"
      ],
      "execution_count": 0,
      "outputs": []
    },
    {
      "cell_type": "code",
      "metadata": {
        "id": "Tjz3EixbMUBN",
        "colab_type": "code",
        "colab": {}
      },
      "source": [
        "for param in model.parameters():\n",
        "    param.requires_grad = False"
      ],
      "execution_count": 0,
      "outputs": []
    },
    {
      "cell_type": "code",
      "metadata": {
        "id": "j2Nxme9_MUov",
        "colab_type": "code",
        "colab": {}
      },
      "source": [
        "model.fc = nn.Linear(in_features=512, out_features=4)"
      ],
      "execution_count": 0,
      "outputs": []
    },
    {
      "cell_type": "code",
      "metadata": {
        "id": "V1Xn2ElWMbmA",
        "colab_type": "code",
        "colab": {}
      },
      "source": [
        "sum([p.numel() for p in model.parameters() if p.requires_grad])"
      ],
      "execution_count": 0,
      "outputs": []
    },
    {
      "cell_type": "code",
      "metadata": {
        "id": "w3TpgQ7hMcEw",
        "colab_type": "code",
        "colab": {}
      },
      "source": [
        "device = torch.device(\"cuda\" if torch.cuda.is_available() else \"cpu\")\n",
        "\n",
        "model = model.to(device)\n",
        "\n",
        "criterion = nn.CrossEntropyLoss()\n",
        "optimizer = optim.SGD(model.parameters(), \n",
        "                      lr=0.001, momentum=0.9, weight_decay=5e-4)\n",
        "scheduler = optim.lr_scheduler.StepLR(optimizer, 2, gamma=0.5)"
      ],
      "execution_count": 0,
      "outputs": []
    },
    {
      "cell_type": "code",
      "metadata": {
        "id": "Wp4rjQAQNE0N",
        "colab_type": "code",
        "colab": {}
      },
      "source": [
        "train_losses = []\n",
        "test_losses = []\n",
        "best_acc = 0\n",
        "best_epoch = -1\n",
        "for i in range(3):\n",
        "    train_loss, train_acc = train(model, optimizer, criterion, trainloader, i, device)\n",
        "    train_losses.append(train_loss)\n",
        "    test_loss, test_acc = test(model, criterion, testloader, i, device, best_acc, 'resnet')\n",
        "    scheduler.step(test_loss)\n",
        "    test_losses.append(test_loss)\n",
        "    best_acc = max(best_acc, test_acc)\n",
        "    best_epoch = i if best_acc == test_acc else best_epoch\n",
        "    clear_output()\n",
        "    plt.figure(figsize=(18, 9))\n",
        "    plt.plot(np.arange(len(train_losses)), train_losses, label=f'Train, loss: {train_loss:.4f}, Acc: {train_acc}')\n",
        "    plt.plot(np.arange(len(test_losses)), test_losses, label=f'Test, loss: {test_loss:.4f}, Acc: {test_acc}')\n",
        "    plt.title(f'Epoch {i}')\n",
        "    plt.legend(loc='best')\n",
        "    plt.show()"
      ],
      "execution_count": 0,
      "outputs": []
    },
    {
      "cell_type": "code",
      "metadata": {
        "id": "nno_3pnGNZdP",
        "colab_type": "code",
        "colab": {}
      },
      "source": [
        "for param in model.parameters():\n",
        "    param.requires_grad = True"
      ],
      "execution_count": 0,
      "outputs": []
    },
    {
      "cell_type": "code",
      "metadata": {
        "id": "ZW9muRk1NlGt",
        "colab_type": "code",
        "colab": {}
      },
      "source": [
        "sum([p.numel() for p in model.parameters() if p.requires_grad])"
      ],
      "execution_count": 0,
      "outputs": []
    },
    {
      "cell_type": "code",
      "metadata": {
        "id": "rcpe-M0-Nn_6",
        "colab_type": "code",
        "colab": {}
      },
      "source": [
        "for i in range(3, 10):\n",
        "    train_loss, train_acc = train(model, optimizer, criterion, trainloader, i, device)\n",
        "    train_losses.append(train_loss)\n",
        "    test_loss, test_acc = test(model, criterion, testloader, i, device, best_acc, 'resnet')\n",
        "    scheduler.step(test_loss)\n",
        "    test_losses.append(test_loss)\n",
        "    best_acc = max(best_acc, test_acc)\n",
        "    best_epoch = i if best_acc == test_acc else best_epoch\n",
        "    clear_output()\n",
        "    plt.figure(figsize=(18, 9))\n",
        "    plt.plot(np.arange(len(train_losses)), train_losses, label=f'Train, loss: {train_loss:.4f}, Acc: {train_acc}')\n",
        "    plt.plot(np.arange(len(test_losses)), test_losses, label=f'Test, loss: {test_loss:.4f}, Acc: {test_acc}')\n",
        "    plt.title(f'Epoch {i}')\n",
        "    plt.legend(loc='best')\n",
        "    plt.show()"
      ],
      "execution_count": 0,
      "outputs": []
    },
    {
      "cell_type": "code",
      "metadata": {
        "id": "miz6Dg9NNrO5",
        "colab_type": "code",
        "colab": {}
      },
      "source": [
        "best_acc"
      ],
      "execution_count": 0,
      "outputs": []
    },
    {
      "cell_type": "code",
      "metadata": {
        "id": "t8r3FRPlNttG",
        "colab_type": "code",
        "colab": {}
      },
      "source": [
        "plt.figure(figsize=(18, 9))\n",
        "plt.plot(np.arange(len(train_losses)), train_losses, label=f'Train, loss: {train_loss:.4f}, Acc: {train_acc}')\n",
        "plt.plot(np.arange(len(test_losses)), test_losses, label=f'Test, loss: {test_loss:.4f}, Acc: {test_acc}')\n",
        "plt.plot(np.ones(10)*best_epoch, np.linspace(np.min(train_losses).item(), np.max(test_losses).item(), 10), color='r', label='best epoch')\n",
        "plt.title(f'Epoch {i}')\n",
        "plt.legend(loc='best')"
      ],
      "execution_count": 0,
      "outputs": []
    },
    {
      "cell_type": "code",
      "metadata": {
        "id": "Kf68DhQgNueE",
        "colab_type": "code",
        "colab": {}
      },
      "source": [
        "import torchvision.models as models"
      ],
      "execution_count": 0,
      "outputs": []
    },
    {
      "cell_type": "code",
      "metadata": {
        "id": "3DZjBdi7_cer",
        "colab_type": "code",
        "colab": {}
      },
      "source": [
        "resnet18 = models.resnet18(pretrained=False)\n",
        "googlenet = models.googlenet(pretrained=False)\n",
        "# torchsummary.summary(model.cuda(), (3, 32, 32))\n",
        "net1 = MyConvNet1()\n",
        "net2 = MyConvNet2()\n",
        "torchsummary.summary(net1, (3, 32, 32), device='cpu')\n",
        "torchsummary.summary(net2, (3, 32, 32), device='cpu')\n",
        "torchsummary.summary(resnet18, (3, 32, 32), device='cpu')\n",
        "torchsummary.summary(googlenet, (3, 32, 32), device='cpu')"
      ],
      "execution_count": 0,
      "outputs": []
    },
    {
      "cell_type": "code",
      "metadata": {
        "id": "7naw5T9C3uah",
        "colab_type": "code",
        "colab": {}
      },
      "source": [
        "def trainLoop(model, optim, criterion, traindataloader, testdataloader, device, model_name='model'):\n",
        "  train_losses = []\n",
        "  test_losses = []\n",
        "  best_acc = 0\n",
        "  best_epoch = -1\n",
        "  \n",
        "  for i in range(10):\n",
        "    train_loss, train_acc = train(model, optim, criterion, traindataloader, i, device)\n",
        "    train_losses.append(train_loss)\n",
        "    test_loss, test_acc = test(model, criterion, testdataloader, i, device, best_acc, model_name)\n",
        "    # scheduler.step(test_loss)\n",
        "    test_losses.append(test_loss)\n",
        "    best_acc = max(best_acc, test_acc)\n",
        "    best_epoch = i if best_acc == test_acc else best_epoch\n",
        "    clear_output()\n",
        "    plt.figure(figsize=(18, 9))\n",
        "    plt.plot(np.arange(len(train_losses)), train_losses, label=f'Train, loss: {train_loss:.4f}, Acc: {train_acc}')\n",
        "    plt.plot(np.arange(len(test_losses)), test_losses, label=f'Test, loss: {test_loss:.4f}, Acc: {test_acc}')\n",
        "    plt.title(f'Epoch {i}')\n",
        "    plt.legend(loc='best')\n",
        "    plt.show()"
      ],
      "execution_count": 0,
      "outputs": []
    },
    {
      "cell_type": "markdown",
      "metadata": {
        "id": "0p5Ydg5w6oun",
        "colab_type": "text"
      },
      "source": [
        "# Пример 1. Полносвязная нс"
      ]
    },
    {
      "cell_type": "code",
      "metadata": {
        "id": "3NVEHc650SoN",
        "colab_type": "code",
        "colab": {}
      },
      "source": [
        "device = torch.device(\"cuda\" if torch.cuda.is_available() else \"cpu\")\n",
        "\n",
        "model = MyFCNet1()\n",
        "model = model.to(device)\n",
        "\n",
        "criterion = nn.CrossEntropyLoss()\n",
        "optimizer = optim.SGD(model.parameters(), \n",
        "                      lr=0.001, momentum=0.9, weight_decay=5e-4)\n",
        "# scheduler = optim.lr_scheduler.StepLR(optimizer, 2, gamma=0.5)\n",
        "\n",
        "trainLoop(model=model, optim=optimizer, criterion=criterion, traindataloader=trainloader, testdataloader=testloader, device=device, model_name='fc1')"
      ],
      "execution_count": 0,
      "outputs": []
    },
    {
      "cell_type": "code",
      "metadata": {
        "id": "dGi6CxR98cJP",
        "colab_type": "code",
        "colab": {}
      },
      "source": [
        ""
      ],
      "execution_count": 0,
      "outputs": []
    }
  ]
}